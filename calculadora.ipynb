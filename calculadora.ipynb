{
  "nbformat": 4,
  "nbformat_minor": 0,
  "metadata": {
    "colab": {
      "provenance": [],
      "authorship_tag": "ABX9TyMvu7dJLcHANNCfv6fHWCNm",
      "include_colab_link": true
    },
    "kernelspec": {
      "name": "python3",
      "display_name": "Python 3"
    },
    "language_info": {
      "name": "python"
    }
  },
  "cells": [
    {
      "cell_type": "markdown",
      "metadata": {
        "id": "view-in-github",
        "colab_type": "text"
      },
      "source": [
        "<a href=\"https://colab.research.google.com/github/sergio001g/hola-mundo/blob/main/calculadora.ipynb\" target=\"_parent\"><img src=\"https://colab.research.google.com/assets/colab-badge.svg\" alt=\"Open In Colab\"/></a>"
      ]
    },
    {
      "cell_type": "code",
      "source": [
        "pip install colorama"
      ],
      "metadata": {
        "colab": {
          "base_uri": "https://localhost:8080/"
        },
        "id": "BbVdK7aqdoUw",
        "outputId": "472fe661-896a-471c-88af-84ce52d26d2b"
      },
      "execution_count": 2,
      "outputs": [
        {
          "output_type": "stream",
          "name": "stdout",
          "text": [
            "Collecting colorama\n",
            "  Downloading colorama-0.4.6-py2.py3-none-any.whl.metadata (17 kB)\n",
            "Downloading colorama-0.4.6-py2.py3-none-any.whl (25 kB)\n",
            "Installing collected packages: colorama\n",
            "Successfully installed colorama-0.4.6\n"
          ]
        }
      ]
    },
    {
      "cell_type": "code",
      "execution_count": 3,
      "metadata": {
        "colab": {
          "base_uri": "https://localhost:8080/"
        },
        "id": "XIEmY5Jrcg3V",
        "outputId": "578cba2c-36fd-48cf-f78f-08f1cbfaab7f"
      },
      "outputs": [
        {
          "output_type": "stream",
          "name": "stdout",
          "text": [
            "=== Calculadora Básica ===\n",
            "1. Sumar\n",
            "2. Restar\n",
            "3. Multiplicar\n",
            "4. Dividir\n",
            "5. Salir\n",
            "\n",
            "\u001b[35mSelecciona una opción: 2\n",
            "\u001b[36mIntroduce el primer número: 23\n",
            "\u001b[36mIntroduce el segundo número: 23\n",
            "Resultado: 23.0 - 23.0 = 0.0\n",
            "=== Calculadora Básica ===\n",
            "1. Sumar\n",
            "2. Restar\n",
            "3. Multiplicar\n",
            "4. Dividir\n",
            "5. Salir\n",
            "\n",
            "\u001b[35mSelecciona una opción: 5\n",
            "¡Gracias por usar la calculadora! Hasta luego.\n"
          ]
        }
      ],
      "source": [
        "import colorama\n",
        "from colorama import Fore, Back, Style\n",
        "\n",
        "colorama.init(autoreset=True)\n",
        "\n",
        "def suma(a, b):\n",
        "    return a + b\n",
        "\n",
        "def resta(a, b):\n",
        "    return a - b\n",
        "\n",
        "def multiplicacion(a, b):\n",
        "    return a * b\n",
        "\n",
        "def division(a, b):\n",
        "    if b != 0:\n",
        "        return a / b\n",
        "    else:\n",
        "        return \"Error: División por cero\"\n",
        "\n",
        "def mostrar_menu():\n",
        "    print(Fore.CYAN + Back.BLACK + Style.BRIGHT + \"=== Calculadora Básica ===\")\n",
        "    print(Fore.YELLOW + \"1. Sumar\")\n",
        "    print(Fore.YELLOW + \"2. Restar\")\n",
        "    print(Fore.YELLOW + \"3. Multiplicar\")\n",
        "    print(Fore.YELLOW + \"4. Dividir\")\n",
        "    print(Fore.GREEN + \"5. Salir\")\n",
        "    print(Style.RESET_ALL)\n",
        "\n",
        "def calculadora():\n",
        "    while True:\n",
        "        mostrar_menu()\n",
        "\n",
        "        try:\n",
        "            opcion = int(input(Fore.MAGENTA + \"Selecciona una opción: \"))\n",
        "\n",
        "            if opcion == 5:\n",
        "                print(Fore.GREEN + \"¡Gracias por usar la calculadora! Hasta luego.\")\n",
        "                break\n",
        "\n",
        "            if opcion < 1 or opcion > 4:\n",
        "                print(Fore.RED + \"Opción no válida. Por favor, elige una opción entre 1 y 5.\")\n",
        "                continue\n",
        "\n",
        "            num1 = float(input(Fore.CYAN + \"Introduce el primer número: \"))\n",
        "            num2 = float(input(Fore.CYAN + \"Introduce el segundo número: \"))\n",
        "\n",
        "            if opcion == 1:\n",
        "                resultado = suma(num1, num2)\n",
        "                print(Fore.GREEN + f\"Resultado: {num1} + {num2} = {resultado}\")\n",
        "            elif opcion == 2:\n",
        "                resultado = resta(num1, num2)\n",
        "                print(Fore.GREEN + f\"Resultado: {num1} - {num2} = {resultado}\")\n",
        "            elif opcion == 3:\n",
        "                resultado = multiplicacion(num1, num2)\n",
        "                print(Fore.GREEN + f\"Resultado: {num1} * {num2} = {resultado}\")\n",
        "            elif opcion == 4:\n",
        "                resultado = division(num1, num2)\n",
        "                print(Fore.GREEN + f\"Resultado: {num1} / {num2} = {resultado}\")\n",
        "\n",
        "        except ValueError:\n",
        "            print(Fore.RED + \"Por favor, ingresa un número válido.\")\n",
        "        except Exception as e:\n",
        "            print(Fore.RED + f\"Ha ocurrido un error: {e}\")\n",
        "\n",
        "calculadora()\n"
      ]
    }
  ]
}